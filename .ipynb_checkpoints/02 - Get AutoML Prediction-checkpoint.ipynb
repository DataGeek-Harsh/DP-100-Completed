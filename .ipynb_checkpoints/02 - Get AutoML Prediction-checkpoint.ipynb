{
 "cells": [
  {
   "cell_type": "markdown",
   "metadata": {
    "nteract": {
     "transient": {
      "deleting": false
     }
    }
   },
   "source": [
    "# Get Diabetes Prediction from Automated ML Endpoint\n",
    "\n",
    "Modify the code in the cell below to use the ***ENDPOINT*** and ***PRIMARY_KEY*** for your **auto-predict-diabetes** service. Then run the cell to submit new patient data and retrieve the predicted classifications. "
   ]
  },
  {
   "cell_type": "code",
   "execution_count": 1,
   "metadata": {
    "gather": {
     "logged": 1604605071290
    }
   },
   "outputs": [
    {
     "name": "stdout",
     "output_type": "stream",
     "text": [
      "Prediction: 1\n",
      "Diabetic\n"
     ]
    }
   ],
   "source": [
    "endpoint = 'http://14f99c1b-8d75-442d-a33c-81ad49c1686c.westus2.azurecontainer.io/score' #Replace with your endpoint\n",
    "key = 'ixvE0dHU3P3TE9XE8VmKWLTPH0kU94mv' #Replace with your key\n",
    "\n",
    "import json\n",
    "import requests\n",
    "\n",
    "#Features for a patient\n",
    "x = [{\"PatientID\": 1,\n",
    "      \"Pregnancies\": 5,\n",
    "      \"PlasmaGlucose\": 181.0,\n",
    "      \"DiastolicBloodPressure\": 90.6,\n",
    "      \"TricepsThickness\": 34.0,\n",
    "      \"SerumInsulin\": 23.0,\n",
    "      \"BMI\": 43.51,\n",
    "      \"DiabetesPedigree\": 1.21,\n",
    "      \"Age\": 21.0}]\n",
    "\n",
    "#Create a \"data\" JSON object\n",
    "input_json = json.dumps({\"data\": x})\n",
    "\n",
    "#Set the content type and authentication for the request\n",
    "headers = {\"Content-Type\":\"application/json\",\n",
    "           \"Authorization\":\"Bearer \" + key}\n",
    "\n",
    "#Send the request\n",
    "response = requests.post(endpoint, input_json, headers=headers)\n",
    "\n",
    "#If we got a valid response, display the predictions\n",
    "if response.status_code == 200:\n",
    "    y = json.loads(response.json())\n",
    "    #Get the first prediction in the results\n",
    "    print(\"Prediction:\", y[\"result\"][0])\n",
    "    if y[\"result\"][0] == 1:\n",
    "        print('Diabetic')\n",
    "    else:\n",
    "        print(\"Not Diabetic\")\n",
    "else:\n",
    "    print(response)"
   ]
  },
  {
   "cell_type": "code",
   "execution_count": null,
   "metadata": {},
   "outputs": [],
   "source": []
  }
 ],
 "metadata": {
  "kernel_info": {
   "name": "python3-azureml"
  },
  "kernelspec": {
   "display_name": "Python 3.6 - AzureML",
   "language": "python",
   "name": "python3-azureml"
  },
  "language_info": {
   "codemirror_mode": {
    "name": "ipython",
    "version": 3
   },
   "file_extension": ".py",
   "mimetype": "text/x-python",
   "name": "python",
   "nbconvert_exporter": "python",
   "pygments_lexer": "ipython3",
   "version": "3.6.9"
  },
  "nteract": {
   "version": "nteract-front-end@1.0.0"
  }
 },
 "nbformat": 4,
 "nbformat_minor": 2
}
